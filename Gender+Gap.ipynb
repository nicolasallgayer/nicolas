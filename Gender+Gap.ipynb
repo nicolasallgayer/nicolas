{
 "cells": [
  {
   "cell_type": "markdown",
   "metadata": {},
   "source": [
    "# Analysis of gender gap in bachelor degrees\n",
    "\n",
    "In this project we'll explore how we can communicate the nuanced narrative of gender gap using effective data visualization.\n",
    "The Department of Education Statistics releases a data set annually containing the percentage of bachelor's degrees granted to women from 1970 to 2012. The data set is broken up into 17 categories of degrees, with each column as a separate category.\n",
    "\n",
    "Randal Olson, a data scientist at University of Pennsylvania, has cleaned the data set and made it available on his personal website.\n",
    "\n"
   ]
  },
  {
   "cell_type": "code",
   "execution_count": null,
   "metadata": {
    "collapsed": false
   },
   "outputs": [],
   "source": [
    "%matplotlib inline\n",
    "import pandas as pd\n",
    "import matplotlib.pyplot as plt\n",
    "\n",
    "women_degrees = pd.read_csv('percent-bachelors-degrees-women-usa.csv')\n",
    "print(women_degrees.head())\n",
    "cb_dark_blue = (0/255,107/255,164/255)\n",
    "cb_orange = (255/255, 128/255, 14/255)\n",
    "stem_cats = ['Engineering', 'Computer Science', 'Psychology', 'Biology', 'Physical Sciences', 'Math and Statistics']\n",
    "\n",
    "fig = plt.figure(figsize=(18, 3))\n",
    "\n",
    "for sp in range(0,6):\n",
    "    ax = fig.add_subplot(1,6,sp+1)\n",
    "    ax.plot(women_degrees['Year'], women_degrees[stem_cats[sp]], c=cb_dark_blue, label='Women', linewidth=3)\n",
    "    ax.plot(women_degrees['Year'], 100-women_degrees[stem_cats[sp]], c=cb_orange, label='Men', linewidth=3)\n",
    "    ax.spines[\"right\"].set_visible(False)    \n",
    "    ax.spines[\"left\"].set_visible(False)\n",
    "    ax.spines[\"top\"].set_visible(False)    \n",
    "    ax.spines[\"bottom\"].set_visible(False)\n",
    "    ax.set_xlim(1968, 2011)\n",
    "    ax.set_ylim(0,100)\n",
    "    ax.set_title(stem_cats[sp])\n",
    "    ax.tick_params(bottom=\"off\", top=\"off\", left=\"off\", right=\"off\")\n",
    "    \n",
    "    if sp == 0:\n",
    "        ax.text(2005, 87, 'Men')\n",
    "        ax.text(2002, 8, 'Women')\n",
    "    elif sp == 5:\n",
    "        ax.text(2005, 62, 'Men')\n",
    "        ax.text(2001, 35, 'Women')\n",
    "plt.show()"
   ]
  },
  {
   "cell_type": "markdown",
   "metadata": {},
   "source": [
    "Because there are seventeen degrees that we need to generate line charts for, we'll use a subplot grid layout of 6 rows by 3 columns. We will then group the degrees into STEM, liberal arts, and other, in the following way:"
   ]
  },
  {
   "cell_type": "code",
   "execution_count": null,
   "metadata": {
    "collapsed": false
   },
   "outputs": [],
   "source": [
    "stem_cats = ['Psychology', 'Biology', 'Math and Statistics', 'Physical Sciences', 'Computer Science', 'Engineering']\n",
    "lib_arts_cats = ['Foreign Languages', 'English', 'Communications and Journalism', 'Art and Performance', 'Social Sciences and History']\n",
    "other_cats = ['Health Professions', 'Public Administration', 'Education', 'Agriculture','Business', 'Architecture']\n",
    "\n"
   ]
  },
  {
   "cell_type": "markdown",
   "metadata": {},
   "source": [
    "## Generating the line charts"
   ]
  },
  {
   "cell_type": "code",
   "execution_count": null,
   "metadata": {
    "collapsed": false
   },
   "outputs": [],
   "source": [
    "fig = plt.figure(figsize=(16,20))\n",
    "\n",
    "# Criando gráficos dos cursos 'STEM'\n",
    "for n in range(0,18,3):\n",
    "    cat_index = int(n/3)\n",
    "    ax = fig.add_subplot(6,3,n+1)\n",
    "    ax.plot(women_degrees['Year'], women_degrees[stem_cats[cat_index]], c=cb_dark_blue, label='Women', linewidth=3)\n",
    "    ax.plot(women_degrees['Year'], 100-women_degrees[stem_cats[cat_index]], c=cb_orange, label='Men', linewidth=3)\n",
    "    ax.set_xlim(1968,2011)\n",
    "    ax.set_ylim(0,100)\n",
    "    ax.set_title(stem_cats[cat_index])\n",
    "    ax.tick_params(bottom=\"off\", top=\"off\", left=\"off\", right=\"off\")\n",
    "    for key,value in ax.spines.items():\n",
    "        value.set_visible(False)\n",
    "    if n == 0:\n",
    "        ax.text(2007,80,'Women')\n",
    "        ax.text(2005,15,'Men')\n",
    "    elif n == 15:\n",
    "        ax.text(2007,85,'Men')\n",
    "        ax.text(2005,10,'Women')\n",
    "\n",
    "# Criando gráficos dos cursos 'Liberal Arts'\n",
    "for n in range(1,16,3):\n",
    "    cat_index=int((n-1)/3)\n",
    "    ax = fig.add_subplot(6,3,n+1)\n",
    "    ax.plot(women_degrees['Year'], women_degrees[lib_arts_cats[cat_index]], c=cb_dark_blue, label='Women', linewidth=3)\n",
    "    ax.plot(women_degrees['Year'], 100-women_degrees[lib_arts_cats[cat_index]], c=cb_orange, label='Men', linewidth=3)\n",
    "    ax.set_xlim(1968,2011)\n",
    "    ax.set_ylim(0,100)\n",
    "    ax.set_title(lib_arts_cats[cat_index])\n",
    "    ax.tick_params(bottom=\"off\", top=\"off\", left=\"off\", right=\"off\")\n",
    "    for key,value in ax.spines.items():\n",
    "        value.set_visible(False)\n",
    "    if n == 1:\n",
    "        ax.text(2007,75,'Women')\n",
    "        ax.text(2005,20,'Men')\n",
    "\n",
    "# Criando gráficos dos cursos 'Other'\n",
    "for n in range(2,19,3):\n",
    "    cat_index=int((n-2)/3)\n",
    "    ax = fig.add_subplot(6,3,n+1)\n",
    "    ax.plot(women_degrees['Year'], women_degrees[other_cats[cat_index]], c=cb_dark_blue, label='Women', linewidth=3)\n",
    "    ax.plot(women_degrees['Year'], 100-women_degrees[other_cats[cat_index]], c=cb_orange, label='Men', linewidth=3)\n",
    "    ax.set_xlim(1968,2011)\n",
    "    ax.set_ylim(0,100)\n",
    "    ax.set_title(stem_cats[cat_index])\n",
    "    ax.tick_params(bottom=\"off\", top=\"off\", left=\"off\", right=\"off\")\n",
    "    for key,value in ax.spines.items():\n",
    "        value.set_visible(False)\n",
    "    if n==2:\n",
    "        ax.text(2007,90,'Women')\n",
    "        ax.text(2005,5,'Men')\n",
    "    elif n == 17:\n",
    "        ax.text(2007,60,'Men')\n",
    "        ax.text(2005,35,'Women')\n",
    "plt.show()\n"
   ]
  },
  {
   "cell_type": "code",
   "execution_count": null,
   "metadata": {
    "collapsed": true
   },
   "outputs": [],
   "source": []
  }
 ],
 "metadata": {
  "kernelspec": {
   "display_name": "Python 3",
   "language": "python",
   "name": "python3"
  },
  "language_info": {
   "codemirror_mode": {
    "name": "ipython",
    "version": 3
   },
   "file_extension": ".py",
   "mimetype": "text/x-python",
   "name": "python",
   "nbconvert_exporter": "python",
   "pygments_lexer": "ipython3",
   "version": "3.4.3"
  }
 },
 "nbformat": 4,
 "nbformat_minor": 0
}
